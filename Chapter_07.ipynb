{
 "cells": [
  {
   "cell_type": "markdown",
   "id": "33395d5c",
   "metadata": {},
   "source": [
    "# *Exercises*"
   ]
  },
  {
   "cell_type": "markdown",
   "id": "4bfd1bc2",
   "metadata": {},
   "source": [
    "1. Kansas City sits on the border of two US states; Missouri and Kansas. The Kansas City metropolitan area consists of 15 counties, 9 in Missouri and 6 in Kansas. The entire state of Kansas has 105 counties and Missouri has 114. Uses Bayes Theorem to calculate the probability that a relative who just moved to a county in the Kansas City metropolitan area also lives in a county in Kansas.\n",
    "    - $\\text{P(Kansas) =} \\frac{105}{219}$\n",
    "    - $\\text{P(Kansas Ciy) = }\\frac{15}{219}$\n",
    "    - $\\text{P(Kansas City|Kansas) = }\\frac{6}{105}$\n",
    "    - We are looking for:\n",
    "    - $\\text{P(Kansas|Kansas City) = }\\frac{\\text{P(Kansas City|Kansas)}\\times \\text{P(Kansas)}}{\\text{P(Kansas City)}}$\n"
   ]
  },
  {
   "cell_type": "code",
   "execution_count": 1,
   "id": "8216edd4",
   "metadata": {},
   "outputs": [
    {
     "name": "stdout",
     "output_type": "stream",
     "text": [
      "P(Kansas|Kansas City) = 0.4\n"
     ]
    }
   ],
   "source": [
    "print(f'P(Kansas|Kansas City) = {((6/105)*(105/219))/(15/219)}')"
   ]
  },
  {
   "cell_type": "markdown",
   "id": "61577e8f",
   "metadata": {},
   "source": [
    "2. A deck of cards has 52 cards with suits that are either red or black. There are four aces in a deck of cards: two red and two black. You remove a red ace from the deck and shuffle the cards. Your friend pulls a black card. What is the probability it is an ace?\n",
    "    - $\\text{P(Ace) = }\\frac{3}{51}$\n",
    "    - $\\text{P(Black) = }\\frac{26}{51}$\n",
    "    - $\\text{P(Black|Ace) = }\\frac{2}{3}$\n",
    "    - $\\text{P(Ace|Black) = }\\frac{\\text{P(Black|Ace)}\\times\\text{P(Ace)}}{\\text{P(Black)}}\\text{ = }\\frac{2}{26} \\text{ or } \\frac{1}{13}$"
   ]
  }
 ],
 "metadata": {
  "kernelspec": {
   "display_name": "py_science",
   "language": "python",
   "name": "python3"
  },
  "language_info": {
   "codemirror_mode": {
    "name": "ipython",
    "version": 3
   },
   "file_extension": ".py",
   "mimetype": "text/x-python",
   "name": "python",
   "nbconvert_exporter": "python",
   "pygments_lexer": "ipython3",
   "version": "3.13.5"
  }
 },
 "nbformat": 4,
 "nbformat_minor": 5
}
