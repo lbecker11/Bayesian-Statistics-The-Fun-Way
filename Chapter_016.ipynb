{
 "cells": [
  {
   "cell_type": "markdown",
   "id": "94f8f194",
   "metadata": {},
   "source": [
    "# *Exercises*"
   ]
  },
  {
   "cell_type": "markdown",
   "id": "a011ca4a",
   "metadata": {},
   "source": [
    "1. Returning to the dice problem, assume that your friend made a mistake and suddenly realized there were, in facs, two loaded dice and only one fair dice. How does this change the prior, and therefore the posterior odds, for our problem? Are you more willing to believe that the die being rolled is the loaded die?"
   ]
  },
  {
   "cell_type": "code",
   "execution_count": 13,
   "id": "a74c2277",
   "metadata": {},
   "outputs": [
    {
     "name": "stdout",
     "output_type": "stream",
     "text": [
      "P(D|H1) = 0.00098\n",
      "P(D|H2) = 0.00026\n",
      "The Bayes factor tells us that H1 is 3.78 more likely to occur than H2.\n",
      "The prior odds for H1 are 2.00\n",
      "The posterior odds are 7.56. This tells us that the die is most likely loaded.\n"
     ]
    }
   ],
   "source": [
    "import numpy as np\n",
    "\n",
    "rolls = [6, 1, 3, 6, 4, 5, 6, 1, 2, 6]\n",
    "\n",
    "# First calculate P(D|H), or the likelihood of H1 and H2\n",
    "# We have 4 sixes and 6 non-sixes\n",
    "# Rolling a six is 1/2 and any non 6 is also 1/2\n",
    "\n",
    "# The likelihood of seeing the data given its a loaded die is:\n",
    "p_d_given_h1 = ((1/2)**4)*((1/2)**6)\n",
    "print(f'P(D|H1) = {p_d_given_h1:.5f}')\n",
    "\n",
    "# In the case of the fair die rolling a 6 is 1/6 and rollin a non-6 is 5/6\n",
    "# The likelihood of seeing the data given its a fair die is:\n",
    "p_d_given_h2 = ((1/6)**4)*((5/6)**6)\n",
    "print(f'P(D|H2) = {p_d_given_h2:.5f}')\n",
    "\n",
    "# The Bayes factor is:\n",
    "bayes_factor = p_d_given_h1/p_d_given_h2\n",
    "print(f'The Bayes factor tells us that H1 is {bayes_factor:.2f} more likely to occur than H2.')\n",
    "\n",
    "# Given that there are now 2 loaded dice this updates our priors to:\n",
    "p_h1 = 2/3\n",
    "p_h2 = 1/3\n",
    "prior_odds = p_h1/p_h2\n",
    "print(f'The prior odds for H1 are {prior_odds:.2f}')\n",
    "\n",
    "# Now we can create the new posterior odds\n",
    "posterior_odds = prior_odds*bayes_factor\n",
    "print(f'The posterior odds are {posterior_odds:.2f}. This tells us that the die is most likely loaded.')\n",
    "\n",
    "\n"
   ]
  },
  {
   "cell_type": "markdown",
   "id": "3bc6add5",
   "metadata": {},
   "source": [
    "2. Returning to the rare disease example, suppose you go to the doctor, and after having your ears cleaned you notice that your symptoms persist. Even worse, you have a new symptom: vertigo. The doctor proposes another possible explanation, labyrinthitism which is a viral infection of the inner ear in which 98% of cases involve vertigo. However, hearing loss and tinnitus are less common in this disease; hearing loss occurs only 30% of the time, and tinnitus only occurs 28% of the time. Vertigo is also possible symptom of vestibular schwannoma, but occurs only 49% of cases. In the general population, 35 people per million contract labyrinthis annually. What is the posterior odds when you compare the hypothesis that you have labyrinthitis against the hypothesis that you vesticular schwannoma?"
   ]
  },
  {
   "cell_type": "code",
   "execution_count": 27,
   "id": "9589f15f",
   "metadata": {},
   "outputs": [
    {
     "name": "stdout",
     "output_type": "stream",
     "text": [
      "Having labyrinthitis is 0.69 more/less likely than having vesticular schwannoma.\n",
      "Having vesticular schwannoma is 1.46 more/less likely than having labyrinthitis.\n"
     ]
    }
   ],
   "source": [
    "import numpy as np\n",
    "\n",
    "# Prior odds\n",
    "p_h1 = 35/1000000\n",
    "p_h2 = 11/1000000\n",
    "prior_odds = p_h1/p_h2\n",
    "prior_odds2 = p_h2/p_h1\n",
    "\n",
    "# Likelihood odds\n",
    "p_d_given_h1 = 0.98*0.30*0.28\n",
    "p_d_given_h2 = 0.94*0.83*0.49\n",
    "bayes_factor = p_d_given_h1/p_d_given_h2\n",
    "bayes_factor2 = p_d_given_h2/p_d_given_h1\n",
    "\n",
    "# Posterior odds\n",
    "posterior_odds = prior_odds*bayes_factor\n",
    "posterior_odds2 = prior_odds2*bayes_factor2\n",
    "print(f'Having labyrinthitis is {posterior_odds:.2f} more/less likely than having vesticular schwannoma.\\nHaving vesticular schwannoma is {posterior_odds2:.2f} more/less likely than having labyrinthitis.')\n"
   ]
  }
 ],
 "metadata": {
  "kernelspec": {
   "display_name": "py_science",
   "language": "python",
   "name": "python3"
  },
  "language_info": {
   "codemirror_mode": {
    "name": "ipython",
    "version": 3
   },
   "file_extension": ".py",
   "mimetype": "text/x-python",
   "name": "python",
   "nbconvert_exporter": "python",
   "pygments_lexer": "ipython3",
   "version": "3.13.5"
  }
 },
 "nbformat": 4,
 "nbformat_minor": 5
}
