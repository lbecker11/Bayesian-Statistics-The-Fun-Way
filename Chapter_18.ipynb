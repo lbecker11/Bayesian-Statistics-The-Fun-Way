{
 "cells": [
  {
   "cell_type": "markdown",
   "id": "22cd7ac8",
   "metadata": {},
   "source": [
    "# *Exercises*"
   ]
  },
  {
   "cell_type": "markdown",
   "id": "0efd9cad",
   "metadata": {},
   "source": [
    "1. When two hypotheses explain the data equally well, one way to change our minds is to attack the prior. What could be a factor to increase the prior that our friend has powers. \n",
    "    - Different experiment where he still predicts the outcome"
   ]
  },
  {
   "cell_type": "markdown",
   "id": "47bf1271",
   "metadata": {},
   "source": [
    "2. Experiment that claims that if people hear the word Florida, they think of the elderly and walk slower. We have two group of 15. H1 is that they dont move at different speeds after hearing the word and H2 is the group that hears the word and then walks slower\n",
    "    - $\\text{BF = }\\frac{P(D|H_2)}{P(D|H_1)}$\n",
    "    - The experiment shows a BF of 19\n",
    "    - What prior odds would we need for someone to be unconvinced and what would the BF(Bayes Factor) need to be for the posterior to be 50"
   ]
  },
  {
   "cell_type": "code",
   "execution_count": 17,
   "id": "5880909e",
   "metadata": {},
   "outputs": [
    {
     "name": "stdout",
     "output_type": "stream",
     "text": [
      "Prior of 0.0526 (1/19) needed to negate the result\n",
      "To get a posterior of 50 we would need a BF of 950\n"
     ]
    }
   ],
   "source": [
    "bayes_factor = 19\n",
    "prior = 1/bayes_factor\n",
    "print(f'Prior of {prior:.4f} (1/{bayes_factor}) needed to negate the result')\n",
    "\n",
    "j = 1\n",
    "while True:\n",
    "    if j * prior >= 50:\n",
    "        print(f'To get a posterior of 50 we would need a BF of {j}')\n",
    "        break\n",
    "    j += 1\n"
   ]
  },
  {
   "cell_type": "markdown",
   "id": "2bd59f99",
   "metadata": {},
   "source": [
    "If the priors dont change our skeptics belief we need another hypothesis. H3 could be that they just listened and slowed down."
   ]
  }
 ],
 "metadata": {
  "kernelspec": {
   "display_name": "py_science",
   "language": "python",
   "name": "python3"
  },
  "language_info": {
   "codemirror_mode": {
    "name": "ipython",
    "version": 3
   },
   "file_extension": ".py",
   "mimetype": "text/x-python",
   "name": "python",
   "nbconvert_exporter": "python",
   "pygments_lexer": "ipython3",
   "version": "3.13.5"
  }
 },
 "nbformat": 4,
 "nbformat_minor": 5
}
