{
 "cells": [
  {
   "cell_type": "markdown",
   "id": "1aaa2d60",
   "metadata": {},
   "source": [
    "# *Exercises*"
   ]
  },
  {
   "cell_type": "markdown",
   "id": "df155b89",
   "metadata": {},
   "source": [
    "1. Its possible to get errors that dont quite cancel out the way we want. In the Fahrengeit temperature scale, 98.6 degrees is the normal body temperature and 100.4 is the typical threshold for a fever. Say you are taking care of a child that feels warm and seems sick, but you take repeated readings from the thermometer and they all read between 99.5 and 100.0 degrees: warm, but not quite fever. You try the thermometer yourself and get several readings between 97.5 and 98. What could be wrong with the thermometer?"
   ]
  },
  {
   "cell_type": "code",
   "execution_count": 94,
   "id": "b5361aab",
   "metadata": {},
   "outputs": [
    {
     "name": "stdout",
     "output_type": "stream",
     "text": [
      "Offest by 0.46, to get a mean of 98.67\n"
     ]
    }
   ],
   "source": [
    "import numpy as np\n",
    "\n",
    "low = 97.5\n",
    "high = 98\n",
    "values = np.random.uniform(low, high, 100)\n",
    "\n",
    "while True:\n",
    "    shift = np.random.uniform(0, 3, 1)[0]\n",
    "    avg = np.mean(values)\n",
    "    if avg >= 98.5 and avg <= 98.7:\n",
    "        rounded_values = np.round(values, 2)\n",
    "        print(f'Offest by {shift:.2f}, to get a mean of {avg:.2f}')\n",
    "        break\n",
    "    if avg > 98.7:\n",
    "        values -= shift\n",
    "    else:\n",
    "        values += shift\n",
    "\n",
    "\n"
   ]
  },
  {
   "cell_type": "markdown",
   "id": "cccc91a1",
   "metadata": {},
   "source": [
    "2. Given that you feel healthy and have traditionally had a very consistently normal temperature, how could you alter the measurements 100, 99.5, 99.6, and 100.2 to estimate if the child has a fever?"
   ]
  },
  {
   "cell_type": "code",
   "execution_count": 86,
   "id": "11bf3887",
   "metadata": {},
   "outputs": [
    {
     "name": "stdout",
     "output_type": "stream",
     "text": [
      "Offset by 1.85, to get [100.57 100.07 100.17 100.77] with a mean of 100.40\n"
     ]
    }
   ],
   "source": [
    "values = np.array([100, 99.5, 99.6, 100.2])\n",
    "while True:\n",
    "    shift = np.random.uniform(0, 3, 1)[0]\n",
    "    if np.mean(values) >= 100.3 and np.mean(values) <= 100.5:\n",
    "        rounded_values = np.round(values, 2)\n",
    "        avg = np.mean(values)\n",
    "        print(f'Offset by {shift:.2f}, to get {rounded_values} with a mean of {avg:.2f}')\n",
    "        break\n",
    "    if np.mean(values) > 100:\n",
    "        values -= shift\n",
    "    else:\n",
    "        values += shift"
   ]
  }
 ],
 "metadata": {
  "kernelspec": {
   "display_name": "py_science",
   "language": "python",
   "name": "python3"
  },
  "language_info": {
   "codemirror_mode": {
    "name": "ipython",
    "version": 3
   },
   "file_extension": ".py",
   "mimetype": "text/x-python",
   "name": "python",
   "nbconvert_exporter": "python",
   "pygments_lexer": "ipython3",
   "version": "3.13.5"
  }
 },
 "nbformat": 4,
 "nbformat_minor": 5
}
