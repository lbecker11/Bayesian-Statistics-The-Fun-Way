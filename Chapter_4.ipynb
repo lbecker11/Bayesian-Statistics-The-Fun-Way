{
 "cells": [
  {
   "cell_type": "markdown",
   "id": "60df0535",
   "metadata": {},
   "source": [
    "# *Exercises*"
   ]
  },
  {
   "cell_type": "markdown",
   "id": "54a05280",
   "metadata": {},
   "source": [
    "1. What are the parameters of the binominal distribution for the probability of rolling either a 1 or 20 on a 20-sided die, if we roll the die 12 times?\n",
    "    - B(k; n, p) where *k* is the number of outcomes we care about, *n* the number of trials, and *p* the probability\n",
    "    - $\\text{B(k; n, p)} = \\binom{n}{k}\\times p^k \\times (1-p)^{n-k} \\text{ where } \\binom{n}{k}=\\frac{n!}{k! \\times (n-k)!}$\n",
    "    - rolling a 1 or 20 is mutually exclusive events which means we can either get 1 or 20 and not both, *p* = $\\frac{1}{20}+\\frac{1}{20}=\\frac{2}{20}$\n",
    "    - B(1; 12, 2/20)"
   ]
  },
  {
   "cell_type": "markdown",
   "id": "2885d545",
   "metadata": {},
   "source": [
    "2. There are four aces in a deck of 52 cards. If you pull a card, return the card, then reshuffle and pull a card again, how many ways can you pull just one ace in five pulls?\n",
    "    - $\\binom{5}{1}$"
   ]
  },
  {
   "cell_type": "code",
   "execution_count": 2,
   "id": "cd050c38",
   "metadata": {},
   "outputs": [
    {
     "name": "stdout",
     "output_type": "stream",
     "text": [
      "5\n"
     ]
    }
   ],
   "source": [
    "import math \n",
    "print(math.comb(5, 1))"
   ]
  },
  {
   "cell_type": "markdown",
   "id": "98f933f1",
   "metadata": {},
   "source": [
    "3. What is the *p* of pulling 5 aces in 10 pulls?\n",
    "    - B(5; 10, 4/52)"
   ]
  },
  {
   "cell_type": "code",
   "execution_count": 3,
   "id": "0a9cc745",
   "metadata": {},
   "outputs": [
    {
     "name": "stdout",
     "output_type": "stream",
     "text": [
      "0.00045485528790408636\n"
     ]
    }
   ],
   "source": [
    "from scipy.stats import binom\n",
    "\n",
    "print(binom.pmf(5, 10, 4/52))"
   ]
  },
  {
   "cell_type": "markdown",
   "id": "1d35e450",
   "metadata": {},
   "source": [
    "4. You're searching for a job. If you have a *p* of 1/5 for receiving a job and you interview with seven companies in a month what is the *p* of getting at least two offers?\n",
    "    - sum up everything after k = 2"
   ]
  },
  {
   "cell_type": "code",
   "execution_count": 5,
   "id": "c795d246",
   "metadata": {},
   "outputs": [
    {
     "data": {
      "image/png": "[encoded data removed]",
      "text/plain": [
       "<Figure size 640x480 with 1 Axes>"
      ]
     },
     "metadata": {},
     "output_type": "display_data"
    },
    {
     "name": "stdout",
     "output_type": "stream",
     "text": [
      "0.4232832000000001\n"
     ]
    }
   ],
   "source": [
    "from scipy.stats import binom\n",
    "import matplotlib.pyplot as plt\n",
    "\n",
    "n = 7\n",
    "p = 1/5\n",
    "x = range(n + 1)\n",
    "y = [binom.pmf(k, n, p) for k in x]\n",
    "\n",
    "plt.bar(x, y, color='skyblue', edgecolor='black')\n",
    "plt.xlabel('Number of Successes')\n",
    "plt.ylabel('Probability')\n",
    "plt.title('Binomial PMF (n=7, p=1/5)')\n",
    "plt.grid(axis='y')\n",
    "plt.show()\n",
    "\n",
    "print(sum([binom.pmf(k, 7, 1/5) for k in range(2, 8)]))"
   ]
  },
  {
   "cell_type": "markdown",
   "id": "1767d8ea",
   "metadata": {},
   "source": [
    "5. You receive 25 interview offers but you know that this will make you exhausted and the *p* of getting an offer drops to 1/10. You dont want to go to that many interviews. Are you more likely to get 2 or more offers if you go to all 25 or just 7? You will only go if the chance is 2x"
   ]
  },
  {
   "cell_type": "code",
   "execution_count": null,
   "id": "d94626a8",
   "metadata": {},
   "outputs": [
    {
     "name": "stdout",
     "output_type": "stream",
     "text": [
      "Prob of 2 or more after attending all 25 = 0.7287940935386336\n",
      "Prob of 2 or more by just attending 7 = 0.4232832000000001\n",
      "You are 1.7217647512082535 more likely to get an offer by attending all 25\n"
     ]
    }
   ],
   "source": [
    "from scipy.stats import binom\n",
    "import matplotlib.pyplot as plt\n",
    "\n",
    "\n",
    "\n",
    "comps_25 = sum([binom.pmf(k, 25, 1/10) for k in range(2, 26)])\n",
    "comps_7 = sum([binom.pmf(k, 7, 1/5) for k in range(2, 8)])\n",
    "print(f'Prob of 2 or more after attending all 25 = {comps_25}')\n",
    "print(f'Prob of 2 or more by just attending 7 = {comps_7}')\n",
    "print(f'You are {comps_25/comps_7} more likely to get an offer by attending all 25')"
   ]
  }
 ],
 "metadata": {
  "kernelspec": {
   "display_name": "py_science",
   "language": "python",
   "name": "python3"
  },
  "language_info": {
   "codemirror_mode": {
    "name": "ipython",
    "version": 3
   },
   "file_extension": ".py",
   "mimetype": "text/x-python",
   "name": "python",
   "nbconvert_exporter": "python",
   "pygments_lexer": "ipython3",
   "version": "3.13.5"
  }
 },
 "nbformat": 4,
 "nbformat_minor": 5
}
