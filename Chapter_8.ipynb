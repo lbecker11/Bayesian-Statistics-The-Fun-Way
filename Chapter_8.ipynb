{
 "cells": [
  {
   "cell_type": "markdown",
   "id": "d731f6c4",
   "metadata": {},
   "source": [
    "# *Exercises*"
   ]
  },
  {
   "cell_type": "markdown",
   "id": "e9526b8d",
   "metadata": {},
   "source": [
    "1. As mentioned, you might disagree with the original probability assigned to the likelihood:\n",
    "    - $\\text{P(broken window, open front door, missing laptop|robbed) = } \\frac{3}{10}$\n",
    "    - How much does this change our strength in believing H1 over H2?"
   ]
  },
  {
   "cell_type": "code",
   "execution_count": 2,
   "id": "da08d9b0",
   "metadata": {},
   "outputs": [
    {
     "name": "stdout",
     "output_type": "stream",
     "text": [
      "657.0\n"
     ]
    }
   ],
   "source": [
    "print((1/1000)*(3/100)/(1/21900000))"
   ]
  },
  {
   "cell_type": "markdown",
   "id": "1a301edf",
   "metadata": {},
   "source": [
    "2. How unlikely would you have to believe in being robbed is - our prior for H1 - in order for the ratio of H1 to H2 to be even?"
   ]
  },
  {
   "cell_type": "code",
   "execution_count": null,
   "id": "5515e6a0",
   "metadata": {},
   "outputs": [
    {
     "name": "stderr",
     "output_type": "stream",
     "text": [
      "\n",
      "KeyboardInterrupt\n",
      "\n"
     ]
    }
   ],
   "source": [
    "import sys\n",
    "\n",
    "sys.setrecursionlimit(700000)\n",
    "\n",
    "robbed = 1/1000\n",
    "P_of_H1 = robbed/(3/10)\n",
    "ratio = 6570\n",
    "i = 1\n",
    "\n",
    "def recursive_prob(i):\n",
    "    formula = ((1/i)*(3/10))/(1/21900000)\n",
    "    if formula == 1:\n",
    "        print(i)\n",
    "    else:\n",
    "        return recursive_prob(i+1)\n",
    "\n",
    "recursive_prob(i)\n",
    "# takes way too long"
   ]
  },
  {
   "cell_type": "code",
   "execution_count": 12,
   "id": "2f6ab606",
   "metadata": {},
   "outputs": [
    {
     "name": "stdout",
     "output_type": "stream",
     "text": [
      "Found it: i = 6570000\n"
     ]
    }
   ],
   "source": [
    "def iterative_prob():\n",
    "    i = 1\n",
    "    while True:\n",
    "        formula = ((1/i)*(3/10))/(1/21900000)\n",
    "        if formula == 1:\n",
    "            print(f\"Found it: i = {i}\")\n",
    "            break\n",
    "        i += 1\n",
    "\n",
    "iterative_prob()\n"
   ]
  }
 ],
 "metadata": {
  "kernelspec": {
   "display_name": "py_science",
   "language": "python",
   "name": "python3"
  },
  "language_info": {
   "codemirror_mode": {
    "name": "ipython",
    "version": 3
   },
   "file_extension": ".py",
   "mimetype": "text/x-python",
   "name": "python",
   "nbconvert_exporter": "python",
   "pygments_lexer": "ipython3",
   "version": "3.13.5"
  }
 },
 "nbformat": 4,
 "nbformat_minor": 5
}
