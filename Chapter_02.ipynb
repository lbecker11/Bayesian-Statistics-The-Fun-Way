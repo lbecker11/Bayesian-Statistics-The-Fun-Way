{
 "cells": [
  {
   "cell_type": "markdown",
   "id": "a053da01",
   "metadata": {},
   "source": [
    "# *Excercises*"
   ]
  },
  {
   "cell_type": "markdown",
   "id": "8455994c",
   "metadata": {},
   "source": [
    "1. Probability of rolling two six-sided dice and getting a value greater than seven\n"
   ]
  },
  {
   "cell_type": "code",
   "execution_count": null,
   "id": "39bad8e2",
   "metadata": {},
   "outputs": [
    {
     "name": "stdout",
     "output_type": "stream",
     "text": [
      "P(>7) = 15/36 = 41.66666666666667\n"
     ]
    }
   ],
   "source": [
    "dice_sides = 6\n",
    "value = 7\n",
    "total_possibilities = 0\n",
    "greater_than_7 = 0\n",
    "for dice1 in range(1, 7):\n",
    "    roll1 = dice1 \n",
    "    for dice2 in range(1, 7):\n",
    "        roll2 = dice2\n",
    "        total_possibilities += 1\n",
    "        if dice1+dice2 > value:\n",
    "            greater_than_7 += 1\n",
    "\n",
    "print(f'P(>7) = {greater_than_7}/{total_possibilities} = {(greater_than_7/total_possibilities)*100}')"
   ]
  },
  {
   "cell_type": "markdown",
   "id": "55cabc47",
   "metadata": {},
   "source": [
    "2. Probability of rolling three six-sided dice and getting a value greater than 7"
   ]
  },
  {
   "cell_type": "code",
   "execution_count": 8,
   "id": "54059ddd",
   "metadata": {},
   "outputs": [
    {
     "name": "stdout",
     "output_type": "stream",
     "text": [
      "P(>7) = 181/216 = 83.79629629629629\n"
     ]
    }
   ],
   "source": [
    "dice_sides = 6\n",
    "value = 7\n",
    "total_possibilities = 0\n",
    "greater_than_7 = 0\n",
    "for dice1 in range(1, 7):\n",
    "    roll1 = dice1 \n",
    "    for dice2 in range(1, 7):\n",
    "        roll2 = dice2\n",
    "        for dice3 in range(1, 7):\n",
    "            roll3 = dice3\n",
    "            total_possibilities += 1\n",
    "            if dice1+dice2+dice3 > value:\n",
    "                greater_than_7 += 1\n",
    "\n",
    "print(f'P(>7) = {greater_than_7}/{total_possibilities} = {(greater_than_7/total_possibilities)*100}')"
   ]
  },
  {
   "cell_type": "markdown",
   "id": "034689e3",
   "metadata": {},
   "source": [
    "3. The Yankees are playing the Red Sox. You favour the Sox and bet your friend 30 if Yankees win and 5 to me if Sox win. Based off the assigned odds what is the *P*?"
   ]
  },
  {
   "cell_type": "code",
   "execution_count": 10,
   "id": "dd629300",
   "metadata": {},
   "outputs": [
    {
     "name": "stdout",
     "output_type": "stream",
     "text": [
      "P(Sox win) = 85.71428571428571\n"
     ]
    }
   ],
   "source": [
    "yankee = 30\n",
    "sox = 5\n",
    "factor = 30/5\n",
    "odds_to_p = factor/(factor+1)\n",
    "print(f'P(Sox win) = {odds_to_p*100}')"
   ]
  }
 ],
 "metadata": {
  "kernelspec": {
   "display_name": "py_science",
   "language": "python",
   "name": "python3"
  },
  "language_info": {
   "codemirror_mode": {
    "name": "ipython",
    "version": 3
   },
   "file_extension": ".py",
   "mimetype": "text/x-python",
   "name": "python",
   "nbconvert_exporter": "python",
   "pygments_lexer": "ipython3",
   "version": "3.13.5"
  }
 },
 "nbformat": 4,
 "nbformat_minor": 5
}
