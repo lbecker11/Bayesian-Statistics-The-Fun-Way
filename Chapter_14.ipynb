{
 "cells": [
  {
   "cell_type": "markdown",
   "id": "8758c2d6",
   "metadata": {},
   "source": [
    "# *Exercises*"
   ]
  },
  {
   "cell_type": "markdown",
   "id": "d3c49c94",
   "metadata": {},
   "source": [
    "1. Suppose you're playing air hockey with some friends and flip a coin to see who starts with the puck. After playing 12 times, you realize that the friend who brings thee coin almost always seems to go first: 9 out of 12 times. Some of your other friends start to get suspicious. Define prior probability distributions for the following beliefs:\n",
    "    - One person who weakly believes that the friend is cheating and the true rate of coming up heads is closer to 70%\n",
    "    - One person whoe very strongly believes that the coin is fair and provided a 50% chance of coming heads.\n",
    "    - One person who strongly believes the coin biased to come up heads 70% percent\n"
   ]
  },
  {
   "cell_type": "code",
   "execution_count": null,
   "id": "3f4364c6",
   "metadata": {},
   "outputs": [],
   "source": [
    "from scipy.stats import beta\n",
    "import numpy as np\n",
    "import matplotlib.pyplot as plt\n",
    "\n",
    "alpha_ = 9\n",
    "beta_ = 3\n",
    "\n",
    "x = np.linspace(0, 1, 100)\n",
    "y = beta.pdf(x, alpha_, beta_)\n",
    "\n"
   ]
  }
 ],
 "metadata": {
  "kernelspec": {
   "display_name": "py_science",
   "language": "python",
   "name": "python3"
  },
  "language_info": {
   "codemirror_mode": {
    "name": "ipython",
    "version": 3
   },
   "file_extension": ".py",
   "mimetype": "text/x-python",
   "name": "python",
   "nbconvert_exporter": "python",
   "pygments_lexer": "ipython3",
   "version": "3.13.5"
  }
 },
 "nbformat": 4,
 "nbformat_minor": 5
}
