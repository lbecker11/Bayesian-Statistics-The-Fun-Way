{
 "cells": [
  {
   "cell_type": "markdown",
   "id": "0315e5a3",
   "metadata": {},
   "source": [
    "# *Exercises*"
   ]
  },
  {
   "cell_type": "markdown",
   "id": "0a0d9d85",
   "metadata": {},
   "source": [
    "1. What is the probaility of rolling a 20 three times on a 20 sided dice?"
   ]
  },
  {
   "cell_type": "code",
   "execution_count": 1,
   "id": "3f427d4f",
   "metadata": {},
   "outputs": [
    {
     "name": "stdout",
     "output_type": "stream",
     "text": [
      "P(20 three times) = 0.012500000000000002\n"
     ]
    }
   ],
   "source": [
    "p20 = 1/20\n",
    "print(f'P(20 three times) = {(p20*p20*p20)*100}')"
   ]
  },
  {
   "cell_type": "markdown",
   "id": "c465a354",
   "metadata": {},
   "source": [
    "2. 10% of rain tomorrow and I forget my umbrella half the time. What is the *P* that I get caught in the rain without an umbrella?"
   ]
  },
  {
   "cell_type": "code",
   "execution_count": 2,
   "id": "b6017496",
   "metadata": {},
   "outputs": [
    {
     "name": "stdout",
     "output_type": "stream",
     "text": [
      "P(rain, no umbrella) = 5.0\n"
     ]
    }
   ],
   "source": [
    "p_rain = 1/10\n",
    "p_no_umbrella = 1/2\n",
    "print(f'P(rain, no umbrella) = {(p_rain*p_no_umbrella)*100}')"
   ]
  },
  {
   "cell_type": "markdown",
   "id": "f9a40dca",
   "metadata": {},
   "source": [
    "3. Raw eggs have a 1/20'000 *p* of having salmonella. If I eat two eggs what is the *p* of getting salmonella?"
   ]
  },
  {
   "cell_type": "code",
   "execution_count": 3,
   "id": "7c46c749",
   "metadata": {},
   "outputs": [
    {
     "name": "stdout",
     "output_type": "stream",
     "text": [
      "P(egg 1 OR egg 2 having salmonella) = P(egg1 salm)+P(egg 2 salm)-P(egg1 salm, egg2 salm) = 9.975e-05\n"
     ]
    }
   ],
   "source": [
    "salmonella = 1/20000\n",
    "print(f'P(egg 1 OR egg 2 having salmonella) = P(egg1 salm)+P(egg 2 salm)-P(egg1 salm, egg2 salm) = {(salmonella+salmonella-(salmonella*salmonella)*100)}')"
   ]
  },
  {
   "cell_type": "markdown",
   "id": "9c2c0983",
   "metadata": {},
   "source": [
    "4. What is the *P* of flipping two heads in two coin tosses or rolling three 6s in three six-sided dice rolls?"
   ]
  },
  {
   "cell_type": "code",
   "execution_count": 8,
   "id": "a4f826d4",
   "metadata": {},
   "outputs": [
    {
     "name": "stdout",
     "output_type": "stream",
     "text": [
      "P(heads OR six) = P(heads)+P(six)-P(heads, six) = 25.347222222222225\n"
     ]
    }
   ],
   "source": [
    "two_heads = (1/2)*(1/2)\n",
    "three_six = (1/6)*(1/6)*(1/6)\n",
    "print(f'P(heads OR six) = P(heads)+P(six)-P(heads, six) = {((two_heads+three_six-two_heads*three_six)*100)}')"
   ]
  }
 ],
 "metadata": {
  "kernelspec": {
   "display_name": "py_science",
   "language": "python",
   "name": "python3"
  },
  "language_info": {
   "codemirror_mode": {
    "name": "ipython",
    "version": 3
   },
   "file_extension": ".py",
   "mimetype": "text/x-python",
   "name": "python",
   "nbconvert_exporter": "python",
   "pygments_lexer": "ipython3",
   "version": "3.13.5"
  }
 },
 "nbformat": 4,
 "nbformat_minor": 5
}
