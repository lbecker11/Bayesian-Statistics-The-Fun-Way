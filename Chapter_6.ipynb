{
 "cells": [
  {
   "cell_type": "markdown",
   "id": "29f4267b",
   "metadata": {},
   "source": [
    "# *Exercises*"
   ]
  },
  {
   "cell_type": "markdown",
   "id": "07de42d8",
   "metadata": {},
   "source": [
    "1. What piece of information would we need in order to use Baye's theorem to determine the probability that someone in 2010 who had GBS also had the flu vaccine that year?\n",
    " - We know that $\\text{P(GBS)}=\\frac{2}{100'000}$\n",
    " - We know that $\\text{P(GBS|flu vaccine)}=\\frac{3}{100'000}$\n",
    " - We are looking for $\\text{P(flu vaccine|GBS)}=\\frac{\\text{P(flu vaccine)}\\times \\text{P(GBS|flu vaccine)}}{P(GBS)}$\n",
    " - So we would need to know P(flu vaccine)"
   ]
  },
  {
   "cell_type": "markdown",
   "id": "84fef9f5",
   "metadata": {},
   "source": [
    "2. What is the probability that a random person picked from the population is female and is *not* colorblind?\n",
    " - Our product rule for conditional probailities is $\\text{P(A, B) = P(A)}\\times \\text{P(B|A)}$\n",
    " - $\\text{P(color blind|female) = 0.005}$\n",
    " - $\\text{P(not color blind|female) = 1 - 0.005}$\n",
    " - $\\text{P(female) = 0.5}$\n",
    " - $\\text{P(female, not colorblind) = 0.5}\\times \\text{0.995 = 0.4975}$"
   ]
  },
  {
   "cell_type": "markdown",
   "id": "b5bd3fe8",
   "metadata": {},
   "source": [
    "3. What is the probability that a *male* who received the *flu vaccine* in 2010 is either *color blind* or has *GBS*?\n",
    " - Since being male is indepenent from having GBS\n",
    " - $\\text{P(A) = P(color blind|male) = This is the probability of being color blind including they are male}$\n",
    " - $\\text{P(B) = P(GBS|flu vaccine) = This is the probabilit of having GBS inlcuding they got the shot}$\n",
    " - This way our probabilities include the conditions of the question of being male and having the flu vaccine\n",
    " - $\\text{Formula = P(A or B) = P(A) + P(B) - P(A)}\\times \\text{P(B|A)}$"
   ]
  },
  {
   "cell_type": "code",
   "execution_count": 2,
   "id": "7ce04fa9",
   "metadata": {},
   "outputs": [
    {
     "name": "stdout",
     "output_type": "stream",
     "text": [
      "0.0800276\n"
     ]
    }
   ],
   "source": [
    "print(0.08+0.00003-(0.08*0.00003))"
   ]
  }
 ],
 "metadata": {
  "kernelspec": {
   "display_name": "py_science",
   "language": "python",
   "name": "python3"
  },
  "language_info": {
   "codemirror_mode": {
    "name": "ipython",
    "version": 3
   },
   "file_extension": ".py",
   "mimetype": "text/x-python",
   "name": "python",
   "nbconvert_exporter": "python",
   "pygments_lexer": "ipython3",
   "version": "3.13.5"
  }
 },
 "nbformat": 4,
 "nbformat_minor": 5
}
