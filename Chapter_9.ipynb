{
 "cells": [
  {
   "cell_type": "markdown",
   "id": "92f6d227",
   "metadata": {},
   "source": [
    "# *Exercises*"
   ]
  },
  {
   "cell_type": "markdown",
   "id": "79afa272",
   "metadata": {},
   "source": [
    "1. A friend finds a coin on the ground, flips it, and gets six heads in a row and then one tails. Give the beta distribution that describes this. Use integration to determine the probability that the true rate of flipping heads is between 0.4 and 0.6, reflectin that the coin is reasonably fair."
   ]
  },
  {
   "cell_type": "code",
   "execution_count": 21,
   "id": "49114bc0",
   "metadata": {},
   "outputs": [
    {
     "data": {
      "image/png": "[encoded data removed]",
      "text/plain": [
       "<Figure size 640x480 with 1 Axes>"
      ]
     },
     "metadata": {},
     "output_type": "display_data"
    },
    {
     "name": "stdout",
     "output_type": "stream",
     "text": [
      "The P of the coin being fair (1/2 or 50% of either heads or tails) based of the observed events is: 4.26%, which makes it unfair\n"
     ]
    }
   ],
   "source": [
    "import numpy as np\n",
    "from scipy.stats import beta\n",
    "import matplotlib.pyplot as plt\n",
    "\n",
    "heads = 6\n",
    "tails = 1\n",
    "\n",
    "x = np.linspace(0, 1, 100)\n",
    "y = beta.pdf(x, 6, 1)\n",
    "\n",
    "plt.plot(x, y)\n",
    "plt.fill_between(x, y, where=(x >= 0.4) & (x <= 0.6),color='lightgreen', alpha=0.5, label='Shaded Area')\n",
    "plt.axvline(0.5, color='red', linestyle='--', linewidth=2)\n",
    "plt.ylabel('Density')\n",
    "plt.xlabel('p')\n",
    "plt.show()\n",
    "\n",
    "print(f'The P of the coin being fair (1/2 or 50% of either heads or tails) based of the observed events is: {(beta.sf(0.40, heads, tails)-beta.sf(0.60, heads, tails))*100:.2f}%, which makes it unfair')\n"
   ]
  },
  {
   "cell_type": "markdown",
   "id": "ad972057",
   "metadata": {},
   "source": [
    "2. Come up with a prior probability that the coin is fair. Use a beta distribution such that there is at least a 95% chance that the true rate of flipping heads is between 0.4 and 0.6"
   ]
  },
  {
   "cell_type": "code",
   "execution_count": 24,
   "id": "14d8bd1e",
   "metadata": {},
   "outputs": [
    {
     "name": "stdout",
     "output_type": "stream",
     "text": [
      "alpha:60, beta:55, for added 54\n"
     ]
    }
   ],
   "source": [
    "from scipy.stats import beta\n",
    "import matplotlib.pyplot as plt\n",
    "import numpy as np\n",
    "\n",
    "heads = 6\n",
    "tails = 1\n",
    "i = 1\n",
    "x = np.linspace(0, 1, 100)\n",
    "while True:\n",
    "    new_tails = tails + i\n",
    "    new_heads = heads + i\n",
    "    beta_distribution = beta.pdf(x, new_heads, new_tails)\n",
    "    if beta.sf(0.4, new_heads, new_tails)-beta.sf(0.6, new_heads, new_tails) >= 0.95:\n",
    "        print(f'alpha:{new_heads}, beta:{new_tails}, for added {i}')\n",
    "        break\n",
    "    i += 1 "
   ]
  },
  {
   "cell_type": "markdown",
   "id": "3426aed4",
   "metadata": {},
   "source": [
    "3. Now see how many more heads (with no more tails) it would take to convince you that there is a reasonable chance that the coin is *not* fair. In this case, lets say that this means that our belief in the rate of the coin being between 0.4 and 0.6 drops below 0.5."
   ]
  },
  {
   "cell_type": "code",
   "execution_count": 19,
   "id": "56dcf6f8",
   "metadata": {},
   "outputs": [
    {
     "name": "stdout",
     "output_type": "stream",
     "text": [
      "We need 28 more heads to make this coin unfair\n"
     ]
    }
   ],
   "source": [
    "from scipy.stats import beta \n",
    "import numpy as np\n",
    "\n",
    "alpha_ = 55\n",
    "beta_ = 55\n",
    "x = np.linspace(0, 1, 100)\n",
    "\n",
    "i = 1\n",
    "while True:\n",
    "    alpha_ += 1\n",
    "    beta.pdf(x, alpha_, beta_)\n",
    "    if beta.sf(0.4, alpha_, beta_) - beta.sf(0.6, alpha_, beta_) <= 0.5:\n",
    "        print(f'We need {i} more heads to make this coin unfair')\n",
    "        break\n",
    "    i +=1 "
   ]
  }
 ],
 "metadata": {
  "kernelspec": {
   "display_name": "py_science",
   "language": "python",
   "name": "python3"
  },
  "language_info": {
   "codemirror_mode": {
    "name": "ipython",
    "version": 3
   },
   "file_extension": ".py",
   "mimetype": "text/x-python",
   "name": "python",
   "nbconvert_exporter": "python",
   "pygments_lexer": "ipython3",
   "version": "3.13.5"
  }
 },
 "nbformat": 4,
 "nbformat_minor": 5
}
