{
 "cells": [
  {
   "cell_type": "markdown",
   "id": "7fae76b7",
   "metadata": {},
   "source": [
    "# *Exercises*"
   ]
  },
  {
   "cell_type": "markdown",
   "id": "7b9c0e20",
   "metadata": {},
   "source": [
    "1. You flip a coin with your friend on who gets to decide the movie. Your friend always picks head and for 10 weeks in a row it flips head. Set up a Bayes factor for the hypothesis that the coin is a trick over the hypothesis that the coin is fair. What does this ratio suggest?"
   ]
  },
  {
   "cell_type": "code",
   "execution_count": 7,
   "id": "18a760e3",
   "metadata": {},
   "outputs": [
    {
     "name": "stdout",
     "output_type": "stream",
     "text": [
      "The Bayes Factor for that the coin is a trick over the coin being fair is 1024.0.\n",
      "This means that the coin is 1024 more likely to be a trick than fair.\n"
     ]
    }
   ],
   "source": [
    "# Bayes Factor\n",
    "p_d_given_trick = 1**10\n",
    "p_d_given_fair = 0.5**10\n",
    "bayes_factor = p_d_given_trick/p_d_given_fair\n",
    "print(f'The Bayes Factor for that the coin is a trick over the coin being fair is {bayes_factor}.\\nThis means that the coin is 1024 more likely to be a trick than fair.')"
   ]
  },
  {
   "cell_type": "markdown",
   "id": "8b9ba7d7",
   "metadata": {},
   "source": [
    "2. Create 3 prior odds for:\n",
    "    - your friend lying\n",
    "    - your friend being honest with the occasional lie\n",
    "    - your friend being honest"
   ]
  },
  {
   "cell_type": "code",
   "execution_count": 23,
   "id": "ab0b65a6",
   "metadata": {},
   "outputs": [
    {
     "name": "stdout",
     "output_type": "stream",
     "text": [
      "To get posterior odds of 240,\n",
      "we need prior odds of 0.234375,\n",
      "which supports the assumption: overwhelming evidence for lying\n",
      "To get posterior odds of 1400,\n",
      "we need prior odds of 1.367188,\n",
      "which supports the assumption: overwhelming evidence for lying\n",
      "To get posterior odds of 10,\n",
      "we need prior odds of 0.009766,\n",
      "which supports the assumption: overwhelming evidence for lying\n"
     ]
    }
   ],
   "source": [
    "# Prior odds\n",
    "def required_prior(posterior_target, assumption):\n",
    "    p_d_given_trick = 1**10\n",
    "    p_d_given_fair = 0.5**10\n",
    "    bayes_factor = p_d_given_trick / p_d_given_fair\n",
    "    \n",
    "    prior_odds = posterior_target / bayes_factor\n",
    "    print(f\"To get posterior odds of {posterior_target},\")\n",
    "    print(f\"we need prior odds of {prior_odds:.6f},\")\n",
    "    print(f\"which supports the assumption: {assumption}\")\n",
    "\n",
    "required_prior(240, \"overwhelming evidence for lying\")\n",
    "required_prior(1400, \"overwhelming evidence for lying\")\n",
    "required_prior(10, \"overwhelming evidence for lying\")"
   ]
  },
  {
   "cell_type": "markdown",
   "id": "6e4cbf82",
   "metadata": {},
   "source": [
    "3. We trust our friend deeply and give him a prior of 1/10000. How many flips to get a posterior of 1?"
   ]
  },
  {
   "cell_type": "code",
   "execution_count": null,
   "id": "aa79d227",
   "metadata": {},
   "outputs": [],
   "source": [
    "n = 2\n",
    "prior = 1/10000\n",
    "\n",
    "while True:\n",
    "    p_d_given_trick = 1**n\n",
    "    p_d_given_fair = 0.5**n\n",
    "    bayes_factor = p_d_given_trick / p_d_given_fair\n",
    "    posterior_odds = prior * bayes_factor\n",
    "\n",
    "    if 0.9 <= posterior_odds <= 1.1:\n",
    "        print(f\"n = {n}, posterior_odds ≈ {posterior_odds:.4f}\")\n",
    "        break\n",
    "\n",
    "    n += 1\n",
    "    if n > 1000000:  # safety break\n",
    "        print(\"No match found\")\n",
    "        break"
   ]
  },
  {
   "cell_type": "markdown",
   "id": "c3a85bc8",
   "metadata": {},
   "source": [
    "Not possible to solve like this because of the float division by zero error, since $0.5^n$ is smaller than 0.0 which just gets interpreted as 0 <br> Solving analytically gives:<br>\n",
    "    - $0.9≤posterior odds≤1.1$ <br>\n",
    "    - $0.9≤ \\frac{2^n}{10000}​≤1.1$ <br>\n",
    "    - $9000≤2^n≤11000$ <br>\n",
    "    - $\\log_2{​(9000)}≤n≤\\log_2{​(11000)}$<br>\n",
    "    - $13.1357≤n≤13.4252$"
   ]
  },
  {
   "cell_type": "markdown",
   "id": "ddba309b",
   "metadata": {},
   "source": [
    "4. Another friend who plays with him gets the feeling off being played after 4 weeks. He applies a posterior of 100. What is the assigned prior?"
   ]
  },
  {
   "cell_type": "code",
   "execution_count": 15,
   "id": "e359a0a7",
   "metadata": {},
   "outputs": [
    {
     "name": "stdout",
     "output_type": "stream",
     "text": [
      "The prior that our friend would assign for this is 6.25\n"
     ]
    }
   ],
   "source": [
    "likelihood = 1**4/0.5**4\n",
    "posterior = 100\n",
    "prior = posterior/likelihood\n",
    "print(f'The prior that our friend would assign for this is {prior}')"
   ]
  }
 ],
 "metadata": {
  "kernelspec": {
   "display_name": "py_science",
   "language": "python",
   "name": "python3"
  },
  "language_info": {
   "codemirror_mode": {
    "name": "ipython",
    "version": 3
   },
   "file_extension": ".py",
   "mimetype": "text/x-python",
   "name": "python",
   "nbconvert_exporter": "python",
   "pygments_lexer": "ipython3",
   "version": "3.13.5"
  }
 },
 "nbformat": 4,
 "nbformat_minor": 5
}
