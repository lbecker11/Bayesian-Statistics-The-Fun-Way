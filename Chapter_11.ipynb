{
 "cells": [
  {
   "cell_type": "markdown",
   "id": "977eeef6",
   "metadata": {},
   "source": [
    "# *Exercises*"
   ]
  },
  {
   "cell_type": "markdown",
   "id": "c0387beb",
   "metadata": {},
   "source": [
    "1. One of the benefits of variance is that squaring the differences makes the penalties exponential. Give some examples of when this would be a useful property.\n",
    "    - In portfolio theory, variance is used to measure the volatility of returns. Squaring the differences means that:\n",
    "    - A few wild swings in asset prices (e.g., a stock crashing 30%) are penalized much more than a series of small fluctuations.\n",
    "    - This helps investors avoid portfolios that might look stable on average but hide dangerous outliers.\n",
    "    - Why it matters: You’d rather avoid a portfolio that occasionally tanks, even if it averages out nicely.\n"
   ]
  },
  {
   "cell_type": "markdown",
   "id": "fc60cefb",
   "metadata": {},
   "source": [
    "2. Calculate thee mean, variance, and standard deviation for the following: numbers 1-10\n",
    "- mean: $\\mu = \\sum^n_1p_ix_i \\text{ or } \\frac{1}{n} \\sum_{i=1}^{n} x_i$\n",
    "- variance: $\\text{Var(x) = }\\frac{1}{n}\\times \\sum_{1}^{n}(x_i-\\mu)^2$\n",
    "- standard deviation: $\\sigma = \\sqrt{\\frac{1}{n}\\times \\sum_{1}^{n}(x_i-\\mu)^2}$"
   ]
  },
  {
   "cell_type": "code",
   "execution_count": 4,
   "id": "63eb7490",
   "metadata": {},
   "outputs": [
    {
     "name": "stdout",
     "output_type": "stream",
     "text": [
      "The mean is 5.5, the variance is 8.25, and the standard deviation is 2.87\n"
     ]
    }
   ],
   "source": [
    "import numpy as np\n",
    "\n",
    "values = np.array(range(1,11))\n",
    "mean = np.mean(values)\n",
    "var = np.var(values)\n",
    "std = np.std(values)\n",
    "print(f'The mean is {mean}, the variance is {var}, and the standard deviation is {std:.2f}')"
   ]
  }
 ],
 "metadata": {
  "kernelspec": {
   "display_name": "py_science",
   "language": "python",
   "name": "python3"
  },
  "language_info": {
   "codemirror_mode": {
    "name": "ipython",
    "version": 3
   },
   "file_extension": ".py",
   "mimetype": "text/x-python",
   "name": "python",
   "nbconvert_exporter": "python",
   "pygments_lexer": "ipython3",
   "version": "3.13.5"
  }
 },
 "nbformat": 4,
 "nbformat_minor": 5
}
