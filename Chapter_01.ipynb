{
 "cells": [
  {
   "cell_type": "markdown",
   "id": "45f91621",
   "metadata": {},
   "source": [
    "# *Excercises*"
   ]
  },
  {
   "cell_type": "markdown",
   "id": "ca65e7c8",
   "metadata": {},
   "source": [
    "1. Rewrite the following statements as equations using the mathematical notation you learned in this chapter:\n",
    "    - P(rain) = low\n",
    "    - P(rain|cloudy) = high\n",
    "    - P(umbrella|raining) >> P(umbrella)\n",
    "2. Organize the data you observe in the following scenario into a mathematical notation, using the techniques we've covered in this chapter\n",
    "    - P(robbed|latop gone, window broken, door open)\n",
    "3. The evidence provided\n",
    "    - P(robbed|kid threw rock, hid laptop) >> P(robbed|latop gone, window broken, door open)"
   ]
  }
 ],
 "metadata": {
  "kernelspec": {
   "display_name": "py_science",
   "language": "python",
   "name": "python3"
  },
  "language_info": {
   "name": "python",
   "version": "3.13.5"
  }
 },
 "nbformat": 4,
 "nbformat_minor": 5
}
